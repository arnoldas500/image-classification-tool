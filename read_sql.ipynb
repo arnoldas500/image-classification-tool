{
 "cells": [
  {
   "cell_type": "code",
   "execution_count": 1,
   "id": "french-weekly",
   "metadata": {},
   "outputs": [],
   "source": [
    "import sqlite3\n",
    "import pandas as pd"
   ]
  },
  {
   "cell_type": "code",
   "execution_count": 2,
   "id": "killing-transcript",
   "metadata": {},
   "outputs": [],
   "source": [
    "conn = sqlite3.connect('images.db')\n",
    "c = conn.cursor()"
   ]
  },
  {
   "cell_type": "code",
   "execution_count": 3,
   "id": "veterinary-consent",
   "metadata": {
    "tags": []
   },
   "outputs": [],
   "source": [
    "# c.execute('SELECT * FROM images')\n",
    "# data = c.fetchall()\n",
    "# print(data)\n",
    "# for row in data:\n",
    "# #     print(row)"
   ]
  },
  {
   "cell_type": "code",
   "execution_count": 4,
   "id": "strange-constraint",
   "metadata": {},
   "outputs": [
    {
     "data": {
      "text/html": [
       "<div>\n",
       "<style scoped>\n",
       "    .dataframe tbody tr th:only-of-type {\n",
       "        vertical-align: middle;\n",
       "    }\n",
       "\n",
       "    .dataframe tbody tr th {\n",
       "        vertical-align: top;\n",
       "    }\n",
       "\n",
       "    .dataframe thead th {\n",
       "        text-align: right;\n",
       "    }\n",
       "</style>\n",
       "<table border=\"1\" class=\"dataframe\">\n",
       "  <thead>\n",
       "    <tr style=\"text-align: right;\">\n",
       "      <th></th>\n",
       "      <th>name</th>\n",
       "      <th>class</th>\n",
       "      <th>classified</th>\n",
       "    </tr>\n",
       "  </thead>\n",
       "  <tbody>\n",
       "    <tr>\n",
       "      <th>0</th>\n",
       "      <td>20200102T010028_VOOR.jpg</td>\n",
       "      <td>Rain</td>\n",
       "      <td>1</td>\n",
       "    </tr>\n",
       "    <tr>\n",
       "      <th>1</th>\n",
       "      <td>20200102T030029_VOOR.jpg</td>\n",
       "      <td>Rain</td>\n",
       "      <td>1</td>\n",
       "    </tr>\n",
       "    <tr>\n",
       "      <th>2</th>\n",
       "      <td>20200102T100028_VOOR.jpg</td>\n",
       "      <td>Rain</td>\n",
       "      <td>1</td>\n",
       "    </tr>\n",
       "    <tr>\n",
       "      <th>3</th>\n",
       "      <td>20200102T112026_VOOR.jpg</td>\n",
       "      <td>Rain</td>\n",
       "      <td>1</td>\n",
       "    </tr>\n",
       "    <tr>\n",
       "      <th>4</th>\n",
       "      <td>20200102T112527_VOOR.jpg</td>\n",
       "      <td>Rain</td>\n",
       "      <td>1</td>\n",
       "    </tr>\n",
       "    <tr>\n",
       "      <th>...</th>\n",
       "      <td>...</td>\n",
       "      <td>...</td>\n",
       "      <td>...</td>\n",
       "    </tr>\n",
       "    <tr>\n",
       "      <th>137</th>\n",
       "      <td>20200102T224028_VOOR.jpg</td>\n",
       "      <td>None</td>\n",
       "      <td>0</td>\n",
       "    </tr>\n",
       "    <tr>\n",
       "      <th>138</th>\n",
       "      <td>20200102T230029_VOOR.jpg</td>\n",
       "      <td>None</td>\n",
       "      <td>0</td>\n",
       "    </tr>\n",
       "    <tr>\n",
       "      <th>139</th>\n",
       "      <td>20200102T080028_VOOR.jpg</td>\n",
       "      <td>None</td>\n",
       "      <td>0</td>\n",
       "    </tr>\n",
       "    <tr>\n",
       "      <th>140</th>\n",
       "      <td>20200102T020029_VOOR.jpg</td>\n",
       "      <td>None</td>\n",
       "      <td>0</td>\n",
       "    </tr>\n",
       "    <tr>\n",
       "      <th>141</th>\n",
       "      <td>20200102T060029_VOOR.jpg</td>\n",
       "      <td>None</td>\n",
       "      <td>0</td>\n",
       "    </tr>\n",
       "  </tbody>\n",
       "</table>\n",
       "<p>142 rows × 3 columns</p>\n",
       "</div>"
      ],
      "text/plain": [
       "                         name class  classified\n",
       "0    20200102T010028_VOOR.jpg  Rain           1\n",
       "1    20200102T030029_VOOR.jpg  Rain           1\n",
       "2    20200102T100028_VOOR.jpg  Rain           1\n",
       "3    20200102T112026_VOOR.jpg  Rain           1\n",
       "4    20200102T112527_VOOR.jpg  Rain           1\n",
       "..                        ...   ...         ...\n",
       "137  20200102T224028_VOOR.jpg  None           0\n",
       "138  20200102T230029_VOOR.jpg  None           0\n",
       "139  20200102T080028_VOOR.jpg  None           0\n",
       "140  20200102T020029_VOOR.jpg  None           0\n",
       "141  20200102T060029_VOOR.jpg  None           0\n",
       "\n",
       "[142 rows x 3 columns]"
      ]
     },
     "execution_count": 4,
     "metadata": {},
     "output_type": "execute_result"
    }
   ],
   "source": [
    "pd.read_sql_query(\"SELECT * from images\", conn)"
   ]
  },
  {
   "cell_type": "code",
   "execution_count": null,
   "id": "future-ranking",
   "metadata": {},
   "outputs": [],
   "source": []
  }
 ],
 "metadata": {
  "kernelspec": {
   "display_name": "Python 3",
   "language": "python",
   "name": "python3"
  },
  "language_info": {
   "codemirror_mode": {
    "name": "ipython",
    "version": 3
   },
   "file_extension": ".py",
   "mimetype": "text/x-python",
   "name": "python",
   "nbconvert_exporter": "python",
   "pygments_lexer": "ipython3",
   "version": "3.8.5"
  }
 },
 "nbformat": 4,
 "nbformat_minor": 5
}
